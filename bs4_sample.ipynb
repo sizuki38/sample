{
 "cells": [
  {
   "cell_type": "markdown",
   "id": "67872d33",
   "metadata": {},
   "source": [
    "# install"
   ]
  },
  {
   "cell_type": "code",
   "execution_count": null,
   "id": "01dfe548",
   "metadata": {
    "scrolled": true
   },
   "outputs": [],
   "source": [
    "!pip install bs4 requests"
   ]
  },
  {
   "cell_type": "markdown",
   "id": "f5e36d25",
   "metadata": {},
   "source": [
    "# import"
   ]
  },
  {
   "cell_type": "code",
   "execution_count": null,
   "id": "9bab39c7",
   "metadata": {},
   "outputs": [],
   "source": [
    "from bs4 import BeautifulSoup\n",
    "import requests"
   ]
  },
  {
   "cell_type": "markdown",
   "id": "e77c09da",
   "metadata": {},
   "source": [
    "# ページの取得"
   ]
  },
  {
   "cell_type": "code",
   "execution_count": null,
   "id": "05af754c",
   "metadata": {},
   "outputs": [],
   "source": [
    "url = 'https://scrapbox.io'#自分が取りたいサイトのurl\n",
    "home_link = '/DA-Lab/' # ページ遷移で変わる部分は分けておくと後がやりやすい\n",
    "#例として福西研究室のscrapboxを例に入れておく\n",
    "headers = {'User-Agent':'Mozilla/5.0'}#bot対策用\n",
    "\n",
    "response = requests.get(url+home_link, headers = headers)\n",
    "soup = BeautifulSoup(response.content,\"html.parser\")#htmlデータの全文を取得\n",
    "response.close()#裏で処理を続けてしまうので基本的に取得し終えたら閉じる"
   ]
  },
  {
   "cell_type": "code",
   "execution_count": null,
   "id": "df2fb368",
   "metadata": {
    "scrolled": true
   },
   "outputs": [],
   "source": [
    "print(soup)"
   ]
  },
  {
   "cell_type": "markdown",
   "id": "b7e4d8b3",
   "metadata": {},
   "source": [
    "# タイトルの取得"
   ]
  },
  {
   "cell_type": "code",
   "execution_count": null,
   "id": "83fb49b2",
   "metadata": {},
   "outputs": [],
   "source": [
    "print(soup.title)#サイトページのタイトルの取得\n",
    "print(soup.title.text)#~.textでテキスト部分のみ取得"
   ]
  },
  {
   "cell_type": "markdown",
   "id": "5916bfa9",
   "metadata": {},
   "source": [
    "# 条件で絞りたい\n",
    "### soup.find('タグ',属性 = '値')\n",
    "### soup.find_all('タグ',属性 = '値')\n",
    "##### ※属性なかったら無くてもいい"
   ]
  },
  {
   "cell_type": "code",
   "execution_count": null,
   "id": "55093c03",
   "metadata": {},
   "outputs": [],
   "source": [
    "#一つだけ取りたい・一番上の項目を取りたい\n",
    "one = soup.find('li')\n",
    "print(one)"
   ]
  },
  {
   "cell_type": "code",
   "execution_count": null,
   "id": "bc8b82c7",
   "metadata": {},
   "outputs": [],
   "source": [
    "#当てはまるもの全てを取りたい\n",
    "zenbu = soup.find_all('li') \n",
    "for i in zenbu:\n",
    "    print(i)"
   ]
  },
  {
   "cell_type": "code",
   "execution_count": null,
   "id": "6ed4400c",
   "metadata": {
    "scrolled": true
   },
   "outputs": [],
   "source": [
    "#tagの後ろの属性で条件を絞りたい\n",
    "#class属性\n",
    "class_ =  soup.find('div',class_ = 'summary')\n",
    "print(class_)\n",
    "#id属性\n",
    "id_ = soup.find('div',id = 'app-container')\n",
    "print(id_)"
   ]
  },
  {
   "cell_type": "markdown",
   "id": "b82fa322",
   "metadata": {},
   "source": [
    "# タグのurlを取りたい"
   ]
  },
  {
   "cell_type": "code",
   "execution_count": null,
   "id": "9fb13da5",
   "metadata": {},
   "outputs": [],
   "source": [
    "a = soup.find('a')\n",
    "print(a)\n",
    "link = a.get('href')# aタグのhrefに次のページのリンクが埋め込まれてる\n",
    "print(link)"
   ]
  },
  {
   "cell_type": "code",
   "execution_count": null,
   "id": "55cb0e3f",
   "metadata": {},
   "outputs": [],
   "source": [
    "response = requests.get(url+link, headers = headers)\n",
    "alpha = BeautifulSoup(response.content,\"html.parser\")\n",
    "response.close()"
   ]
  },
  {
   "cell_type": "code",
   "execution_count": null,
   "id": "3fd60966",
   "metadata": {},
   "outputs": [],
   "source": [
    "print(alpha.text)"
   ]
  },
  {
   "cell_type": "code",
   "execution_count": null,
   "id": "c6f23526",
   "metadata": {},
   "outputs": [],
   "source": [
    "#合わせると\n",
    "response = requests.get(url+home_link, headers = headers)\n",
    "soup = BeautifulSoup(response.content,\"html.parser\")\n",
    "response.close()\n",
    "\n",
    "a = soup.find_all('a')\n",
    "\n",
    "for i in a:\n",
    "    link = i.get('href')\n",
    "    response = requests.get(url+link, headers = headers)\n",
    "    soup = BeautifulSoup(response.content,\"html.parser\")\n",
    "    response.close()\n",
    "    print(soup.text)"
   ]
  },
  {
   "cell_type": "markdown",
   "id": "9544e07c",
   "metadata": {},
   "source": [
    "# 以上"
   ]
  }
 ],
 "metadata": {
  "kernelspec": {
   "display_name": "Python 3",
   "language": "python",
   "name": "python3"
  },
  "language_info": {
   "codemirror_mode": {
    "name": "ipython",
    "version": 3
   },
   "file_extension": ".py",
   "mimetype": "text/x-python",
   "name": "python",
   "nbconvert_exporter": "python",
   "pygments_lexer": "ipython3",
   "version": "3.8.8"
  }
 },
 "nbformat": 4,
 "nbformat_minor": 5
}
